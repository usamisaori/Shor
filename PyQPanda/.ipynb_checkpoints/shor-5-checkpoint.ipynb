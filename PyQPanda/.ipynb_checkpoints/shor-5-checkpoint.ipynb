{
 "cells": [
  {
   "cell_type": "code",
   "execution_count": 2,
   "id": "6cbc3479",
   "metadata": {},
   "outputs": [],
   "source": [
    "from pyqpanda import *\n",
    "from pyqpanda.Visualization.circuit_draw import *\n",
    "\n",
    "import math\n",
    "import numpy as np\n",
    "from fractions import Fraction"
   ]
  },
  {
   "cell_type": "code",
   "execution_count": 3,
   "id": "692244b4",
   "metadata": {},
   "outputs": [],
   "source": [
    "N = 21\n",
    "a = 4"
   ]
  },
  {
   "cell_type": "markdown",
   "id": "0bb8735f",
   "metadata": {},
   "source": [
    "## Tool Functions"
   ]
  },
  {
   "cell_type": "code",
   "execution_count": 4,
   "id": "8f9a091d",
   "metadata": {},
   "outputs": [],
   "source": [
    "def draw(prog, filename=''):\n",
    "    print(prog)\n",
    "    \n",
    "    dir_path = './circuits/'\n",
    "    if filename != '':\n",
    "        draw_qprog(prog, 'pic', filename=f'{dir_path}{filename}')"
   ]
  },
  {
   "cell_type": "markdown",
   "id": "7a36c569",
   "metadata": {},
   "source": [
    "## Init Quantum Machine"
   ]
  },
  {
   "cell_type": "code",
   "execution_count": 5,
   "id": "096b4d05",
   "metadata": {},
   "outputs": [],
   "source": [
    "class InitQMachine:\n",
    "    def __init__(self, qubitsCount, cbitsCount, machineType = QMachineType.CPU):\n",
    "        self.machine = init_quantum_machine(machineType)\n",
    "        \n",
    "        self.qubits = self.machine.qAlloc_many(qubitsCount)\n",
    "        self.cbits = self.machine.cAlloc_many(cbitsCount)\n",
    "        \n",
    "        print(f'Init Quantum Machine with qubits:[{qubitsCount}] / cbits:[{cbitsCount}] Successfully')\n",
    "    \n",
    "    def __del__(self):\n",
    "        destroy_quantum_machine(self.machine)"
   ]
  },
  {
   "cell_type": "markdown",
   "id": "7ab47f4c",
   "metadata": {},
   "source": [
    "## Init Shor Circuit"
   ]
  },
  {
   "cell_type": "markdown",
   "id": "96f459d6",
   "metadata": {},
   "source": [
    "### - init qMachine and qubits/cbits"
   ]
  },
  {
   "cell_type": "code",
   "execution_count": 6,
   "id": "c5d89976",
   "metadata": {},
   "outputs": [],
   "source": [
    "phase_bits_qubits = 3\n",
    "function_value_qubits = 2\n",
    "\n",
    "total_qubits = phase_bits_qubits + function_value_qubits"
   ]
  },
  {
   "cell_type": "code",
   "execution_count": 7,
   "id": "b3df6d0a",
   "metadata": {},
   "outputs": [
    {
     "name": "stdout",
     "output_type": "stream",
     "text": [
      "Init Quantum Machine with qubits:[5] / cbits:[3] Successfully\n"
     ]
    }
   ],
   "source": [
    "init_machine = InitQMachine(total_qubits, phase_bits_qubits)\n",
    "\n",
    "qubits = init_machine.qubits\n",
    "cbits = init_machine.cbits"
   ]
  },
  {
   "cell_type": "markdown",
   "id": "991a52d0",
   "metadata": {},
   "source": [
    "### - init empty qProg"
   ]
  },
  {
   "cell_type": "code",
   "execution_count": 8,
   "id": "1948d77a",
   "metadata": {},
   "outputs": [],
   "source": [
    "prog = QProg()"
   ]
  },
  {
   "cell_type": "markdown",
   "id": "ee1ca006",
   "metadata": {},
   "source": [
    "### - First Step: apply hadamard gates"
   ]
  },
  {
   "cell_type": "code",
   "execution_count": 9,
   "id": "2f98941d",
   "metadata": {},
   "outputs": [
    {
     "name": "stdout",
     "output_type": "stream",
     "text": [
      "\n",
      "          ┌─┐     ! \n",
      "q_0:  |0>─┤H├ ────! \n",
      "          ├─┤     ! \n",
      "q_1:  |0>─┤H├ ────! \n",
      "          ├─┤     ! \n",
      "q_2:  |0>─┤H├ ────! \n",
      "          └─┘     ! \n",
      "q_3:  |0>──── ────! \n",
      "                  ! \n",
      "q_4:  |0>──── ────! \n",
      "                  ! \n",
      "\n",
      "\n"
     ]
    }
   ],
   "source": [
    "hadamard_circuit = create_empty_circuit()\n",
    "\n",
    "for i in range(phase_bits_qubits):\n",
    "    hadamard_circuit << H(qubits[i])\n",
    "    \n",
    "hadamard_circuit << BARRIER(qubits)\n",
    "\n",
    "draw(hadamard_circuit, 'hadamard')"
   ]
  },
  {
   "cell_type": "markdown",
   "id": "c9a568df",
   "metadata": {},
   "source": [
    "### - Second Step: apply unitary Uf"
   ]
  },
  {
   "cell_type": "code",
   "execution_count": 90,
   "id": "078c9c58",
   "metadata": {},
   "outputs": [
    {
     "name": "stdout",
     "output_type": "stream",
     "text": [
      "\n",
      "          ┌────┐            ┌────┐ ┌─┐     ┌─┐                   ! \n",
      "q_0:  |0>─┤CNOT├ ────── ─■─ ┤CNOT├ ┤X├ ─■─ ┤X├─── ───■────── ────! \n",
      "          └──┬─┘         │  └──┬─┘ └─┘  │  └─┘       │           ! \n",
      "q_1:  |0>────■── ───■── ─┼─ ───■── ─── ─┼─ ────── ───┼───■── ────! \n",
      "                 ┌──┴─┐  │              │            │┌──┴─┐     ! \n",
      "q_2:  |0>─────── ┤CNOT├ ─■─ ────── ─── ─┼─ ───■── ───┼┤CNOT├ ────! \n",
      "                 └────┘ ┌┴┐             │     │      │└────┘     ! \n",
      "q_3:  |0>─────── ────── ┤X├ ────── ─── ─■─ ───┼── ───┼────── ────! \n",
      "                        └─┘            ┌┴┐ ┌──┴─┐ ┌──┴─┐         ! \n",
      "q_4:  |0>─────── ────── ─── ────── ─── ┤X├ ┤CNOT├ ┤CNOT├──── ────! \n",
      "                                       └─┘ └────┘ └────┘         ! \n",
      "\n",
      "\n"
     ]
    }
   ],
   "source": [
    "unitary_circuit = create_empty_circuit()\n",
    "\n",
    "unitary_circuit << CNOT(qubits[1], qubits[0]) << CNOT(qubits[1], qubits[2]) \\\n",
    "                << Toffoli(qubits[0], qubits[2], qubits[3]) \\\n",
    "                << CNOT(qubits[1], qubits[0]) \\\n",
    "                << X(qubits[0]) << Toffoli(qubits[0], qubits[3], qubits[4]) << X(qubits[0]) \\\n",
    "                << CNOT(qubits[2], qubits[4]) << CNOT(qubits[0], qubits[4]) \\\n",
    "                << CNOT(qubits[1], qubits[2])\n",
    "\n",
    "unitary_circuit << BARRIER(qubits)\n",
    "\n",
    "draw(unitary_circuit, 'unitary')"
   ]
  },
  {
   "cell_type": "markdown",
   "id": "79ff88ce",
   "metadata": {},
   "source": [
    "### - approximate toffoli gate"
   ]
  },
  {
   "cell_type": "code",
   "execution_count": 99,
   "id": "4f1d15f8",
   "metadata": {},
   "outputs": [],
   "source": [
    "def applyToffoli(circuit, a, b, c):\n",
    "    circuit << BARRIER(qubits)\n",
    "    circuit << RY(qubits[c], np.pi / 4) << CNOT(qubits[b], qubits[c]) \\\n",
    "            << RY(qubits[c], np.pi / 4) << CNOT(qubits[a], qubits[c]) \\\n",
    "            << RY(qubits[c], -np.pi / 4) << CNOT(qubits[b], qubits[c]) \\\n",
    "            << RY(qubits[c], -np.pi / 4)\n",
    "    unitary_circuit_approximate << BARRIER(qubits)\n",
    "    \n",
    "    return circuit"
   ]
  },
  {
   "cell_type": "code",
   "execution_count": 92,
   "id": "c651a60f",
   "metadata": {},
   "outputs": [
    {
     "name": "stdout",
     "output_type": "stream",
     "text": [
      "\n",
      "          ┌────┐                                        ┌────┐ ┌─┐                                     >\n",
      "q_0:  |0>─┤CNOT├ ─■────── ─── ─── ────── ─────── ───■── ┤CNOT├ ┤X├─── ─■─────── ─── ─── ────── ─────── >\n",
      "          └──┬─┘  │                                 │   └──┬─┘ └─┘     │                               >\n",
      "q_1:  |0>────■── ─┼───■── ─── ─── ────── ─────── ───┼── ───■── ────── ─┼─────── ─── ─── ────── ─────── >\n",
      "                  │┌──┴─┐                           │                  │                               >\n",
      "q_2:  |0>─────── ─┼┤CNOT├ ─── ─── ───■── ─────── ───┼── ────── ───■── ─┼─────── ─── ─── ────── ─────── >\n",
      "                 ┌┴┼────┘ ┌─┐ ┌─┐ ┌──┴─┐ ┌─────┐ ┌──┴─┐ ┌─┐    ┌──┴─┐  │┌─────┐ ┌─┐                    >\n",
      "q_3:  |0>─────── ┤Z├───── ┤H├ ┤T├ ┤CNOT├ ┤T.dag├ ┤CNOT├ ┤T├─── ┤CNOT├ ─┼┤T.dag├ ┤H├ ─── ───■── ─────── >\n",
      "                 └─┘      └─┘ └─┘ └────┘ └─────┘ └────┘ └─┘    └────┘ ┌┴┼─────┘ ├─┤ ┌─┐ ┌──┴─┐ ┌─────┐ >\n",
      "q_4:  |0>─────── ──────── ─── ─── ────── ─────── ────── ────── ────── ┤Z├────── ┤H├ ┤T├ ┤CNOT├ ┤T.dag├ >\n",
      "                                                                      └─┘       └─┘ └─┘ └────┘ └─────┘ >\n",
      "\n",
      "                ┌─┐                                          ! \n",
      "q_0:  |0>───■── ┤X├ ────── ─────── ─── ────── ───■────── ────! \n",
      "            │   └─┘                              │           ! \n",
      "q_1:  |0>───┼── ─── ────── ─────── ─── ────── ───┼───■── ────! \n",
      "            │                                    │┌──┴─┐     ! \n",
      "q_2:  |0>───┼── ─── ────── ─────── ─── ───■── ───┼┤CNOT├ ────! \n",
      "            │                             │      │└────┘     ! \n",
      "q_3:  |0>───┼── ─── ───■── ─────── ─── ───┼── ───┼────── ────! \n",
      "         ┌──┴─┐ ┌─┐ ┌──┴─┐ ┌─────┐ ┌─┐ ┌──┴─┐ ┌──┴─┐         ! \n",
      "q_4:  |0>┤CNOT├ ┤T├ ┤CNOT├ ┤T.dag├ ┤H├ ┤CNOT├ ┤CNOT├──── ────! \n",
      "         └────┘ └─┘ └────┘ └─────┘ └─┘ └────┘ └────┘         ! \n",
      "\n",
      "\n"
     ]
    }
   ],
   "source": [
    "unitary_circuit_approximate = create_empty_circuit()\n",
    "\n",
    "unitary_circuit_approximate << CNOT(qubits[1], qubits[0]) << CNOT(qubits[1], qubits[2])\n",
    "\n",
    "applyToffoli(unitary_circuit_approximate, 0, 2, 3)\n",
    "\n",
    "unitary_circuit_approximate << CNOT(qubits[1], qubits[0]) \\\n",
    "                << X(qubits[0])\n",
    "\n",
    "applyToffoli(unitary_circuit_approximate, 0, 3, 4)\n",
    "unitary_circuit_approximate << X(qubits[0]) \\\n",
    "                << CNOT(qubits[2], qubits[4]) << CNOT(qubits[0], qubits[4]) \\\n",
    "                << CNOT(qubits[1], qubits[2])\n",
    "\n",
    "unitary_circuit_approximate << BARRIER(qubits)\n",
    "\n",
    "draw(unitary_circuit_approximate, 'unitary2')"
   ]
  },
  {
   "cell_type": "markdown",
   "id": "10ef8a51",
   "metadata": {},
   "source": [
    "### - Third Step: apply QFT_dagger"
   ]
  },
  {
   "cell_type": "code",
   "execution_count": 11,
   "id": "eb37c614",
   "metadata": {},
   "outputs": [
    {
     "name": "stdout",
     "output_type": "stream",
     "text": [
      "\n",
      "          ┌─┐ ┌────────────┐ ┌────────────┐     !                        !     \n",
      "q_0:  |0>─┤H├ ┤U1(1.570796)├ ┤U1(0.785398)├ ────! ─── ────────────── ────! ─── \n",
      "          └─┘ └──────┬─────┘ └──────┬─────┘     ! ┌─┐ ┌────────────┐     !     \n",
      "q_1:  |0>──── ───────■────── ───────┼────── ────! ┤H├ ┤U1(1.570796)├ ────! ─── \n",
      "                                    │           ! └─┘ └──────┬─────┘     ! ┌─┐ \n",
      "q_2:  |0>──── ────────────── ───────■────── ────! ─── ───────■────── ────! ┤H├ \n",
      "                                                !                        ! └─┘ \n",
      "q_3:  |0>──── ────────────── ────────────── ────! ─── ────────────── ────! ─── \n",
      "                                                !                        !     \n",
      "q_4:  |0>──── ────────────── ────────────── ────! ─── ────────────── ────! ─── \n",
      "                                                !                        !     \n",
      "\n",
      "\n"
     ]
    }
   ],
   "source": [
    "qft_dagger_circuit = create_empty_circuit()\n",
    "\n",
    "for i in range(phase_bits_qubits - 1):\n",
    "    qft_dagger_circuit << H(qubits[i])\n",
    "    \n",
    "    for j in range(i + 1, phase_bits_qubits):\n",
    "        qft_dagger_circuit << U1(qubits[i], np.pi / (2 ** (j - i))).control(qubits[j])\n",
    "    \n",
    "    qft_dagger_circuit << BARRIER(qubits)\n",
    "\n",
    "qft_dagger_circuit << H(qubits[phase_bits_qubits - 1])\n",
    "\n",
    "draw(qft_dagger_circuit, 'qft_dagger')"
   ]
  },
  {
   "cell_type": "markdown",
   "id": "6429e6cc",
   "metadata": {},
   "source": [
    "### - build full circuit program"
   ]
  },
  {
   "cell_type": "code",
   "execution_count": 93,
   "id": "8e7955d9",
   "metadata": {},
   "outputs": [
    {
     "name": "stdout",
     "output_type": "stream",
     "text": [
      "\n",
      "          ┌─┐     ! ┌────┐                                        ┌────┐ ┌─┐                             >\n",
      "q_0:  |0>─┤H├ ────! ┤CNOT├ ─■────── ─── ─── ────── ─────── ───■── ┤CNOT├ ┤X├─── ─■─────── ─── ─── ────── >\n",
      "          ├─┤     ! └──┬─┘  │                                 │   └──┬─┘ └─┘     │                       >\n",
      "q_1:  |0>─┤H├ ────! ───■── ─┼───■── ─── ─── ────── ─────── ───┼── ───■── ────── ─┼─────── ─── ─── ────── >\n",
      "          ├─┤     !         │┌──┴─┐                           │                  │                       >\n",
      "q_2:  |0>─┤H├ ────! ────── ─┼┤CNOT├ ─── ─── ───■── ─────── ───┼── ────── ───■── ─┼─────── ─── ─── ────── >\n",
      "          └─┘     !        ┌┴┼────┘ ┌─┐ ┌─┐ ┌──┴─┐ ┌─────┐ ┌──┴─┐ ┌─┐    ┌──┴─┐  │┌─────┐ ┌─┐            >\n",
      "q_3:  |0>──── ────! ────── ┤Z├───── ┤H├ ┤T├ ┤CNOT├ ┤T.dag├ ┤CNOT├ ┤T├─── ┤CNOT├ ─┼┤T.dag├ ┤H├ ─── ───■── >\n",
      "                  !        └─┘      └─┘ └─┘ └────┘ └─────┘ └────┘ └─┘    └────┘ ┌┴┼─────┘ ├─┤ ┌─┐ ┌──┴─┐ >\n",
      "q_4:  |0>──── ────! ────── ──────── ─── ─── ────── ─────── ────── ────── ────── ┤Z├────── ┤H├ ┤T├ ┤CNOT├ >\n",
      "                  !                                                             └─┘       └─┘ └─┘ └────┘ >\n",
      "\n",
      "                        ┌─┐                                          ! ┌─┐ ┌────────────┐ ┌────────────┐ >\n",
      "q_0:  |0>─────── ───■── ┤X├ ────── ─────── ─── ────── ───■────── ────! ┤H├ ┤U1(1.570796)├ ┤U1(0.785398)├ >\n",
      "                    │   └─┘                              │           ! └─┘ └──────┬─────┘ └──────┬─────┘ >\n",
      "q_1:  |0>─────── ───┼── ─── ────── ─────── ─── ────── ───┼───■── ────! ─── ───────■────── ───────┼────── >\n",
      "                    │                                    │┌──┴─┐     !                           │       >\n",
      "q_2:  |0>─────── ───┼── ─── ────── ─────── ─── ───■── ───┼┤CNOT├ ────! ─── ────────────── ───────■────── >\n",
      "                    │                             │      │└────┘     !                                   >\n",
      "q_3:  |0>─────── ───┼── ─── ───■── ─────── ─── ───┼── ───┼────── ────! ─── ────────────── ────────────── >\n",
      "         ┌─────┐ ┌──┴─┐ ┌─┐ ┌──┴─┐ ┌─────┐ ┌─┐ ┌──┴─┐ ┌──┴─┐         !                                   >\n",
      "q_4:  |0>┤T.dag├ ┤CNOT├ ┤T├ ┤CNOT├ ┤T.dag├ ┤H├ ┤CNOT├ ┤CNOT├──── ────! ─── ────────────── ────────────── >\n",
      "         └─────┘ └────┘ └─┘ └────┘ └─────┘ └─┘ └────┘ └────┘         !                                   >\n",
      "\n",
      "             !                        !     \n",
      "q_0:  |0>────! ─── ────────────── ────! ─── \n",
      "             ! ┌─┐ ┌────────────┐     !     \n",
      "q_1:  |0>────! ┤H├ ┤U1(1.570796)├ ────! ─── \n",
      "             ! └─┘ └──────┬─────┘     ! ┌─┐ \n",
      "q_2:  |0>────! ─── ───────■────── ────! ┤H├ \n",
      "             !                        ! └─┘ \n",
      "q_3:  |0>────! ─── ────────────── ────! ─── \n",
      "             !                        !     \n",
      "q_4:  |0>────! ─── ────────────── ────! ─── \n",
      "             !                        !     \n",
      "\n",
      "\n"
     ]
    }
   ],
   "source": [
    "prog2 = create_empty_qprog()\n",
    "prog2 << hadamard_circuit << unitary_circuit2 << qft_dagger_circuit\n",
    "\n",
    "draw(prog2, 'shor2')"
   ]
  },
  {
   "cell_type": "code",
   "execution_count": 12,
   "id": "df45f134",
   "metadata": {},
   "outputs": [
    {
     "name": "stdout",
     "output_type": "stream",
     "text": [
      "\n",
      "          ┌─┐     ! ┌────┐            ┌────┐ ┌─┐     ┌─┐                   ! ┌─┐ ┌────────────┐ ┌────────────┐ >\n",
      "q_0:  |0>─┤H├ ────! ┤CNOT├ ────── ─■─ ┤CNOT├ ┤X├ ─■─ ┤X├─── ───■────── ────! ┤H├ ┤U1(1.570796)├ ┤U1(0.785398)├ >\n",
      "          ├─┤     ! └──┬─┘         │  └──┬─┘ └─┘  │  └─┘       │           ! └─┘ └──────┬─────┘ └──────┬─────┘ >\n",
      "q_1:  |0>─┤H├ ────! ───■── ───■── ─┼─ ───■── ─── ─┼─ ────── ───┼───■── ────! ─── ───────■────── ───────┼────── >\n",
      "          ├─┤     !        ┌──┴─┐  │              │            │┌──┴─┐     !                           │       >\n",
      "q_2:  |0>─┤H├ ────! ────── ┤CNOT├ ─■─ ────── ─── ─┼─ ───■── ───┼┤CNOT├ ────! ─── ────────────── ───────■────── >\n",
      "          └─┘     !        └────┘ ┌┴┐             │     │      │└────┘     !                                   >\n",
      "q_3:  |0>──── ────! ────── ────── ┤X├ ────── ─── ─■─ ───┼── ───┼────── ────! ─── ────────────── ────────────── >\n",
      "                  !               └─┘            ┌┴┐ ┌──┴─┐ ┌──┴─┐         !                                   >\n",
      "q_4:  |0>──── ────! ────── ────── ─── ────── ─── ┤X├ ┤CNOT├ ┤CNOT├──── ────! ─── ────────────── ────────────── >\n",
      "                  !                              └─┘ └────┘ └────┘         !                                   >\n",
      "\n",
      "             !                        !     \n",
      "q_0:  |0>────! ─── ────────────── ────! ─── \n",
      "             ! ┌─┐ ┌────────────┐     !     \n",
      "q_1:  |0>────! ┤H├ ┤U1(1.570796)├ ────! ─── \n",
      "             ! └─┘ └──────┬─────┘     ! ┌─┐ \n",
      "q_2:  |0>────! ─── ───────■────── ────! ┤H├ \n",
      "             !                        ! └─┘ \n",
      "q_3:  |0>────! ─── ────────────── ────! ─── \n",
      "             !                        !     \n",
      "q_4:  |0>────! ─── ────────────── ────! ─── \n",
      "             !                        !     \n",
      "\n",
      "\n"
     ]
    }
   ],
   "source": [
    "prog << hadamard_circuit << unitary_circuit << qft_dagger_circuit\n",
    "\n",
    "draw(prog, 'shor')"
   ]
  },
  {
   "cell_type": "markdown",
   "id": "daa6dc7f",
   "metadata": {},
   "source": [
    "## Measure and calculate factors"
   ]
  },
  {
   "cell_type": "code",
   "execution_count": 42,
   "id": "9c03af8a",
   "metadata": {},
   "outputs": [],
   "source": [
    "def measure(prog):\n",
    "    for i in range(phase_bits_qubits):\n",
    "        prog << Measure(qubits[i], cbits[phase_bits_qubits - i - 1])\n",
    "\n",
    "    result = run_with_configuration(prog, cbits, 1)\n",
    "    print(f'  result: {result}')\n",
    "    \n",
    "    return result"
   ]
  },
  {
   "cell_type": "code",
   "execution_count": 43,
   "id": "cbdf0051",
   "metadata": {},
   "outputs": [],
   "source": [
    "def QPE(result):\n",
    "    phase = int(list(result)[0], 2) / (2 ** phase_bits_qubits)\n",
    "    print(f'   - corresponding phase: {phase}')\n",
    "    \n",
    "    return phase"
   ]
  },
  {
   "cell_type": "code",
   "execution_count": 44,
   "id": "711ba07f",
   "metadata": {},
   "outputs": [],
   "source": [
    "def calculatePeriod(phase):\n",
    "    frac = Fraction(phase).limit_denominator(N)\n",
    "    r = frac.denominator\n",
    "    print(f'\\n  Rewrite to fraction: {frac}, thus r = {r}')\n",
    "    \n",
    "    return r"
   ]
  },
  {
   "cell_type": "code",
   "execution_count": 52,
   "id": "9ee74408",
   "metadata": {},
   "outputs": [],
   "source": [
    "def calculateFactors(r):\n",
    "    guesses = [math.gcd(a ** (r // 2) - 1, N), math.gcd(a ** (r // 2) + 1, N)]\n",
    "    print(f'  calculate final guesses: {guesses}')\n",
    "    \n",
    "    factors = []\n",
    "    for num in guesses:\n",
    "        if num not in [1, N]:\n",
    "            factors.append(num)\n",
    "            print(f'[Find non-trivial factor: {num}]')\n",
    "    \n",
    "    if len(factors) == 0:\n",
    "        print('[Failed]')\n",
    "        return False, []\n",
    "    elif len(factors) == 1:\n",
    "        factors.append(N // factors[0])\n",
    "    \n",
    "    return True, sorted(factors)"
   ]
  },
  {
   "cell_type": "markdown",
   "id": "2b8d4986",
   "metadata": {},
   "source": [
    "### - final execute"
   ]
  },
  {
   "cell_type": "code",
   "execution_count": 77,
   "id": "cb9ee468",
   "metadata": {},
   "outputs": [],
   "source": [
    "def execute(prog):\n",
    "    attempt = 1\n",
    "    \n",
    "    while True:\n",
    "        print(f'Execute shor algorithm - attempt time: [{attempt}]')\n",
    "\n",
    "        result = measure(prog)\n",
    "        phase = QPE(result)\n",
    "\n",
    "        # period\n",
    "        r = calculatePeriod(phase)\n",
    "\n",
    "        ok, factors = calculateFactors(r)\n",
    "        if ok:\n",
    "            print(f'\\nFactors of {N} are: {factors} (total run times: {attempt})')\n",
    "            break\n",
    "            \n",
    "        attempt += 1\n",
    "        print('\\n' + '-' * 36 + '\\n')"
   ]
  },
  {
   "cell_type": "code",
   "execution_count": 81,
   "id": "4a17d37a",
   "metadata": {
    "scrolled": false
   },
   "outputs": [
    {
     "name": "stdout",
     "output_type": "stream",
     "text": [
      "Execute shor algorithm - attempt time: [1]\n",
      "  result: {'000': 1}\n",
      "   - corresponding phase: 0.0\n",
      "\n",
      "  Rewrite to fraction: 0, thus r = 1\n",
      "  calculate final guesses: [21, 1]\n",
      "[Failed]\n",
      "\n",
      "------------------------------------\n",
      "\n",
      "Execute shor algorithm - attempt time: [2]\n",
      "  result: {'110': 1}\n",
      "   - corresponding phase: 0.75\n",
      "\n",
      "  Rewrite to fraction: 3/4, thus r = 4\n",
      "  calculate final guesses: [3, 1]\n",
      "[Find non-trivial factor: 3]\n",
      "\n",
      "Factors of 21 are: [3, 7] (total run times: 2)\n"
     ]
    }
   ],
   "source": [
    "execute(prog)"
   ]
  },
  {
   "cell_type": "code",
   "execution_count": 98,
   "id": "71dbf422",
   "metadata": {},
   "outputs": [
    {
     "name": "stdout",
     "output_type": "stream",
     "text": [
      "Execute shor algorithm - attempt time: [1]\n",
      "  result: {'000': 1}\n",
      "   - corresponding phase: 0.0\n",
      "\n",
      "  Rewrite to fraction: 0, thus r = 1\n",
      "  calculate final guesses: [21, 1]\n",
      "[Failed]\n",
      "\n",
      "------------------------------------\n",
      "\n",
      "Execute shor algorithm - attempt time: [2]\n",
      "  result: {'110': 1}\n",
      "   - corresponding phase: 0.75\n",
      "\n",
      "  Rewrite to fraction: 3/4, thus r = 4\n",
      "  calculate final guesses: [3, 1]\n",
      "[Find non-trivial factor: 3]\n",
      "\n",
      "Factors of 21 are: [3, 7] (total run times: 2)\n"
     ]
    }
   ],
   "source": [
    "execute(prog2)"
   ]
  },
  {
   "cell_type": "code",
   "execution_count": null,
   "id": "91760b13",
   "metadata": {},
   "outputs": [],
   "source": []
  }
 ],
 "metadata": {
  "kernelspec": {
   "display_name": "Python 3 (ipykernel)",
   "language": "python",
   "name": "python3"
  },
  "language_info": {
   "codemirror_mode": {
    "name": "ipython",
    "version": 3
   },
   "file_extension": ".py",
   "mimetype": "text/x-python",
   "name": "python",
   "nbconvert_exporter": "python",
   "pygments_lexer": "ipython3",
   "version": "3.7.0"
  }
 },
 "nbformat": 4,
 "nbformat_minor": 5
}
