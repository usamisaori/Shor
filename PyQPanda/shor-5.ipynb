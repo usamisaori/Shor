{
 "cells": [
  {
   "cell_type": "code",
   "execution_count": 2,
   "id": "6cbc3479",
   "metadata": {},
   "outputs": [],
   "source": [
    "from pyqpanda import *\n",
    "from pyqpanda.Visualization.circuit_draw import *\n",
    "\n",
    "import math\n",
    "import numpy as np\n",
    "from fractions import Fraction"
   ]
  },
  {
   "cell_type": "code",
   "execution_count": 3,
   "id": "ce490c79",
   "metadata": {},
   "outputs": [],
   "source": [
    "N = 21\n",
    "a = 4"
   ]
  },
  {
   "cell_type": "markdown",
   "id": "e251f304",
   "metadata": {},
   "source": [
    "## Tool Functions"
   ]
  },
  {
   "cell_type": "code",
   "execution_count": 107,
   "id": "5fb4c6a8",
   "metadata": {},
   "outputs": [],
   "source": [
    "def draw(prog, filename=''):\n",
    "    print(prog)\n",
    "    \n",
    "    dir_path = './circuits/5/'\n",
    "    if filename != '':\n",
    "        draw_qprog(prog, 'pic', filename=f'{dir_path}{filename}')"
   ]
  },
  {
   "cell_type": "markdown",
   "id": "ba6271ce",
   "metadata": {},
   "source": [
    "## Init Quantum Machine"
   ]
  },
  {
   "cell_type": "code",
   "execution_count": 5,
   "id": "096b4d05",
   "metadata": {},
   "outputs": [],
   "source": [
    "class InitQMachine:\n",
    "    def __init__(self, qubitsCount, cbitsCount, machineType = QMachineType.CPU):\n",
    "        self.machine = init_quantum_machine(machineType)\n",
    "        \n",
    "        self.qubits = self.machine.qAlloc_many(qubitsCount)\n",
    "        self.cbits = self.machine.cAlloc_many(cbitsCount)\n",
    "        \n",
    "        print(f'Init Quantum Machine with qubits:[{qubitsCount}] / cbits:[{cbitsCount}] Successfully')\n",
    "    \n",
    "    def __del__(self):\n",
    "        destroy_quantum_machine(self.machine)"
   ]
  },
  {
   "cell_type": "markdown",
   "id": "217c2f76",
   "metadata": {},
   "source": [
    "## Init Shor Circuit"
   ]
  },
  {
   "cell_type": "markdown",
   "id": "80aa5b2c",
   "metadata": {},
   "source": [
    "### - init qMachine and qubits/cbits"
   ]
  },
  {
   "cell_type": "code",
   "execution_count": 6,
   "id": "bbeb19bd",
   "metadata": {},
   "outputs": [],
   "source": [
    "phase_bits_qubits = 3\n",
    "function_value_qubits = 2\n",
    "\n",
    "total_qubits = phase_bits_qubits + function_value_qubits"
   ]
  },
  {
   "cell_type": "code",
   "execution_count": 7,
   "id": "5f40c16c",
   "metadata": {},
   "outputs": [
    {
     "name": "stdout",
     "output_type": "stream",
     "text": [
      "Init Quantum Machine with qubits:[5] / cbits:[3] Successfully\n"
     ]
    }
   ],
   "source": [
    "init_machine = InitQMachine(total_qubits, phase_bits_qubits)\n",
    "\n",
    "qubits = init_machine.qubits\n",
    "cbits = init_machine.cbits"
   ]
  },
  {
   "cell_type": "markdown",
   "id": "22c4a7a5",
   "metadata": {},
   "source": [
    "### - init empty qProg"
   ]
  },
  {
   "cell_type": "code",
   "execution_count": 8,
   "id": "659e6097",
   "metadata": {},
   "outputs": [],
   "source": [
    "prog = QProg()"
   ]
  },
  {
   "cell_type": "markdown",
   "id": "43be1cba",
   "metadata": {},
   "source": [
    "### - First Step: apply hadamard gates"
   ]
  },
  {
   "cell_type": "code",
   "execution_count": 9,
   "id": "f8130334",
   "metadata": {},
   "outputs": [
    {
     "name": "stdout",
     "output_type": "stream",
     "text": [
      "\n",
      "          ┌─┐     ! \n",
      "q_0:  |0>─┤H├ ────! \n",
      "          ├─┤     ! \n",
      "q_1:  |0>─┤H├ ────! \n",
      "          ├─┤     ! \n",
      "q_2:  |0>─┤H├ ────! \n",
      "          └─┘     ! \n",
      "q_3:  |0>──── ────! \n",
      "                  ! \n",
      "q_4:  |0>──── ────! \n",
      "                  ! \n",
      "\n",
      "\n"
     ]
    }
   ],
   "source": [
    "hadamard_circuit = create_empty_circuit()\n",
    "\n",
    "for i in range(phase_bits_qubits):\n",
    "    hadamard_circuit << H(qubits[i])\n",
    "    \n",
    "hadamard_circuit << BARRIER(qubits)\n",
    "\n",
    "draw(hadamard_circuit, 'hadamard')"
   ]
  },
  {
   "cell_type": "markdown",
   "id": "3f708019",
   "metadata": {},
   "source": [
    "### - Second Step: apply unitary Uf"
   ]
  },
  {
   "cell_type": "code",
   "execution_count": 90,
   "id": "9c34531a",
   "metadata": {},
   "outputs": [
    {
     "name": "stdout",
     "output_type": "stream",
     "text": [
      "\n",
      "          ┌────┐            ┌────┐ ┌─┐     ┌─┐                   ! \n",
      "q_0:  |0>─┤CNOT├ ────── ─■─ ┤CNOT├ ┤X├ ─■─ ┤X├─── ───■────── ────! \n",
      "          └──┬─┘         │  └──┬─┘ └─┘  │  └─┘       │           ! \n",
      "q_1:  |0>────■── ───■── ─┼─ ───■── ─── ─┼─ ────── ───┼───■── ────! \n",
      "                 ┌──┴─┐  │              │            │┌──┴─┐     ! \n",
      "q_2:  |0>─────── ┤CNOT├ ─■─ ────── ─── ─┼─ ───■── ───┼┤CNOT├ ────! \n",
      "                 └────┘ ┌┴┐             │     │      │└────┘     ! \n",
      "q_3:  |0>─────── ────── ┤X├ ────── ─── ─■─ ───┼── ───┼────── ────! \n",
      "                        └─┘            ┌┴┐ ┌──┴─┐ ┌──┴─┐         ! \n",
      "q_4:  |0>─────── ────── ─── ────── ─── ┤X├ ┤CNOT├ ┤CNOT├──── ────! \n",
      "                                       └─┘ └────┘ └────┘         ! \n",
      "\n",
      "\n"
     ]
    }
   ],
   "source": [
    "unitary_circuit = create_empty_circuit()\n",
    "\n",
    "unitary_circuit << CNOT(qubits[1], qubits[0]) << CNOT(qubits[1], qubits[2]) \\\n",
    "                << Toffoli(qubits[0], qubits[2], qubits[3]) \\\n",
    "                << CNOT(qubits[1], qubits[0]) \\\n",
    "                << X(qubits[0]) << Toffoli(qubits[0], qubits[3], qubits[4]) << X(qubits[0]) \\\n",
    "                << CNOT(qubits[2], qubits[4]) << CNOT(qubits[0], qubits[4]) \\\n",
    "                << CNOT(qubits[1], qubits[2])\n",
    "\n",
    "unitary_circuit << BARRIER(qubits)\n",
    "\n",
    "draw(unitary_circuit, 'unitary')"
   ]
  },
  {
   "cell_type": "markdown",
   "id": "dc67cbfb",
   "metadata": {},
   "source": [
    "### - approximate toffoli gate"
   ]
  },
  {
   "cell_type": "code",
   "execution_count": 101,
   "id": "f4f9e210",
   "metadata": {},
   "outputs": [],
   "source": [
    "def applyToffoli(circuit, a, b, c):\n",
    "    circuit << BARRIER(qubits)\n",
    "    circuit << RY(qubits[c], np.pi / 4) << CNOT(qubits[b], qubits[c]) \\\n",
    "            << RY(qubits[c], np.pi / 4) << CNOT(qubits[a], qubits[c]) \\\n",
    "            << RY(qubits[c], -np.pi / 4) << CNOT(qubits[b], qubits[c]) \\\n",
    "            << RY(qubits[c], -np.pi / 4)\n",
    "    circuit << BARRIER(qubits)\n",
    "    \n",
    "    return circuit"
   ]
  },
  {
   "cell_type": "code",
   "execution_count": 102,
   "id": "b3b72fcf",
   "metadata": {},
   "outputs": [
    {
     "name": "stdout",
     "output_type": "stream",
     "text": [
      "\n",
      "          ┌────┐            !                                                                                    >\n",
      "q_0:  |0>─┤CNOT├ ────── ────! ────────────── ────── ────────────── ───■── ─────────────── ────── ─────────────── >\n",
      "          └──┬─┘            !                                         │                                          >\n",
      "q_1:  |0>────■── ───■── ────! ────────────── ────── ────────────── ───┼── ─────────────── ────── ─────────────── >\n",
      "                 ┌──┴─┐     !                                         │                                          >\n",
      "q_2:  |0>─────── ┤CNOT├ ────! ────────────── ───■── ────────────── ───┼── ─────────────── ───■── ─────────────── >\n",
      "                 └────┘     ! ┌────────────┐ ┌──┴─┐ ┌────────────┐ ┌──┴─┐ ┌─────────────┐ ┌──┴─┐ ┌─────────────┐ >\n",
      "q_3:  |0>─────── ────── ────! ┤RY(0.785398)├ ┤CNOT├ ┤RY(0.785398)├ ┤CNOT├ ┤RY(-0.785398)├ ┤CNOT├ ┤RY(-0.785398)├ >\n",
      "                            ! └────────────┘ └────┘ └────────────┘ └────┘ └─────────────┘ └────┘ └─────────────┘ >\n",
      "q_4:  |0>─────── ────── ────! ────────────── ────── ────────────── ────── ─────────────── ────── ─────────────── >\n",
      "                            !                                                                                    >\n",
      "\n",
      "             ! ┌────┐ ┌─┐     !                                                                                    >\n",
      "q_0:  |0>────! ┤CNOT├ ┤X├ ────! ────────────── ────── ────────────── ───■── ─────────────── ────── ─────────────── >\n",
      "             ! └──┬─┘ └─┘     !                                         │                                          >\n",
      "q_1:  |0>────! ───■── ─── ────! ────────────── ────── ────────────── ───┼── ─────────────── ────── ─────────────── >\n",
      "             !                !                                         │                                          >\n",
      "q_2:  |0>────! ────── ─── ────! ────────────── ────── ────────────── ───┼── ─────────────── ────── ─────────────── >\n",
      "             !                !                                         │                                          >\n",
      "q_3:  |0>────! ────── ─── ────! ────────────── ───■── ────────────── ───┼── ─────────────── ───■── ─────────────── >\n",
      "             !                ! ┌────────────┐ ┌──┴─┐ ┌────────────┐ ┌──┴─┐ ┌─────────────┐ ┌──┴─┐ ┌─────────────┐ >\n",
      "q_4:  |0>────! ────── ─── ────! ┤RY(0.785398)├ ┤CNOT├ ┤RY(0.785398)├ ┤CNOT├ ┤RY(-0.785398)├ ┤CNOT├ ┤RY(-0.785398)├ >\n",
      "             !                ! └────────────┘ └────┘ └────────────┘ └────┘ └─────────────┘ └────┘ └─────────────┘ >\n",
      "\n",
      "             ! ┌─┐                   ! \n",
      "q_0:  |0>────! ┤X├─── ───■────── ────! \n",
      "             ! └─┘       │           ! \n",
      "q_1:  |0>────! ────── ───┼───■── ────! \n",
      "             !           │┌──┴─┐     ! \n",
      "q_2:  |0>────! ───■── ───┼┤CNOT├ ────! \n",
      "             !    │      │└────┘     ! \n",
      "q_3:  |0>────! ───┼── ───┼────── ────! \n",
      "             ! ┌──┴─┐ ┌──┴─┐         ! \n",
      "q_4:  |0>────! ┤CNOT├ ┤CNOT├──── ────! \n",
      "             ! └────┘ └────┘         ! \n",
      "\n",
      "\n"
     ]
    }
   ],
   "source": [
    "unitary_circuit_approximate = create_empty_circuit()\n",
    "\n",
    "unitary_circuit_approximate << CNOT(qubits[1], qubits[0]) << CNOT(qubits[1], qubits[2])\n",
    "\n",
    "applyToffoli(unitary_circuit_approximate, 0, 2, 3)\n",
    "\n",
    "unitary_circuit_approximate << CNOT(qubits[1], qubits[0]) \\\n",
    "                << X(qubits[0])\n",
    "\n",
    "applyToffoli(unitary_circuit_approximate, 0, 3, 4)\n",
    "\n",
    "unitary_circuit_approximate << X(qubits[0]) \\\n",
    "                << CNOT(qubits[2], qubits[4]) << CNOT(qubits[0], qubits[4]) \\\n",
    "                << CNOT(qubits[1], qubits[2])\n",
    "\n",
    "unitary_circuit_approximate << BARRIER(qubits)\n",
    "\n",
    "draw(unitary_circuit_approximate, 'unitary_approximate')"
   ]
  },
  {
   "cell_type": "markdown",
   "id": "51093393",
   "metadata": {},
   "source": [
    "### - Third Step: apply QFT_dagger"
   ]
  },
  {
   "cell_type": "code",
   "execution_count": 11,
   "id": "241f4bc8",
   "metadata": {},
   "outputs": [
    {
     "name": "stdout",
     "output_type": "stream",
     "text": [
      "\n",
      "          ┌─┐ ┌────────────┐ ┌────────────┐     !                        !     \n",
      "q_0:  |0>─┤H├ ┤U1(1.570796)├ ┤U1(0.785398)├ ────! ─── ────────────── ────! ─── \n",
      "          └─┘ └──────┬─────┘ └──────┬─────┘     ! ┌─┐ ┌────────────┐     !     \n",
      "q_1:  |0>──── ───────■────── ───────┼────── ────! ┤H├ ┤U1(1.570796)├ ────! ─── \n",
      "                                    │           ! └─┘ └──────┬─────┘     ! ┌─┐ \n",
      "q_2:  |0>──── ────────────── ───────■────── ────! ─── ───────■────── ────! ┤H├ \n",
      "                                                !                        ! └─┘ \n",
      "q_3:  |0>──── ────────────── ────────────── ────! ─── ────────────── ────! ─── \n",
      "                                                !                        !     \n",
      "q_4:  |0>──── ────────────── ────────────── ────! ─── ────────────── ────! ─── \n",
      "                                                !                        !     \n",
      "\n",
      "\n"
     ]
    }
   ],
   "source": [
    "qft_dagger_circuit = create_empty_circuit()\n",
    "\n",
    "for i in range(phase_bits_qubits - 1):\n",
    "    qft_dagger_circuit << H(qubits[i])\n",
    "    \n",
    "    for j in range(i + 1, phase_bits_qubits):\n",
    "        qft_dagger_circuit << U1(qubits[i], np.pi / (2 ** (j - i))).control(qubits[j])\n",
    "    \n",
    "    qft_dagger_circuit << BARRIER(qubits)\n",
    "\n",
    "qft_dagger_circuit << H(qubits[phase_bits_qubits - 1])\n",
    "\n",
    "draw(qft_dagger_circuit, 'qft_dagger')"
   ]
  },
  {
   "cell_type": "markdown",
   "id": "99244ed6",
   "metadata": {},
   "source": [
    "### - build full circuit program"
   ]
  },
  {
   "cell_type": "code",
   "execution_count": 12,
   "id": "e85f85d3",
   "metadata": {},
   "outputs": [
    {
     "name": "stdout",
     "output_type": "stream",
     "text": [
      "\n",
      "          ┌─┐     ! ┌────┐            ┌────┐ ┌─┐     ┌─┐                   ! ┌─┐ ┌────────────┐ ┌────────────┐ >\n",
      "q_0:  |0>─┤H├ ────! ┤CNOT├ ────── ─■─ ┤CNOT├ ┤X├ ─■─ ┤X├─── ───■────── ────! ┤H├ ┤U1(1.570796)├ ┤U1(0.785398)├ >\n",
      "          ├─┤     ! └──┬─┘         │  └──┬─┘ └─┘  │  └─┘       │           ! └─┘ └──────┬─────┘ └──────┬─────┘ >\n",
      "q_1:  |0>─┤H├ ────! ───■── ───■── ─┼─ ───■── ─── ─┼─ ────── ───┼───■── ────! ─── ───────■────── ───────┼────── >\n",
      "          ├─┤     !        ┌──┴─┐  │              │            │┌──┴─┐     !                           │       >\n",
      "q_2:  |0>─┤H├ ────! ────── ┤CNOT├ ─■─ ────── ─── ─┼─ ───■── ───┼┤CNOT├ ────! ─── ────────────── ───────■────── >\n",
      "          └─┘     !        └────┘ ┌┴┐             │     │      │└────┘     !                                   >\n",
      "q_3:  |0>──── ────! ────── ────── ┤X├ ────── ─── ─■─ ───┼── ───┼────── ────! ─── ────────────── ────────────── >\n",
      "                  !               └─┘            ┌┴┐ ┌──┴─┐ ┌──┴─┐         !                                   >\n",
      "q_4:  |0>──── ────! ────── ────── ─── ────── ─── ┤X├ ┤CNOT├ ┤CNOT├──── ────! ─── ────────────── ────────────── >\n",
      "                  !                              └─┘ └────┘ └────┘         !                                   >\n",
      "\n",
      "             !                        !     \n",
      "q_0:  |0>────! ─── ────────────── ────! ─── \n",
      "             ! ┌─┐ ┌────────────┐     !     \n",
      "q_1:  |0>────! ┤H├ ┤U1(1.570796)├ ────! ─── \n",
      "             ! └─┘ └──────┬─────┘     ! ┌─┐ \n",
      "q_2:  |0>────! ─── ───────■────── ────! ┤H├ \n",
      "             !                        ! └─┘ \n",
      "q_3:  |0>────! ─── ────────────── ────! ─── \n",
      "             !                        !     \n",
      "q_4:  |0>────! ─── ────────────── ────! ─── \n",
      "             !                        !     \n",
      "\n",
      "\n"
     ]
    }
   ],
   "source": [
    "prog << hadamard_circuit << unitary_circuit << qft_dagger_circuit\n",
    "\n",
    "draw(prog, 'shor')"
   ]
  },
  {
   "cell_type": "markdown",
   "id": "ff8d4f64",
   "metadata": {},
   "source": [
    "### - approximate toffoli"
   ]
  },
  {
   "cell_type": "code",
   "execution_count": 103,
   "id": "a9bc80d7",
   "metadata": {},
   "outputs": [
    {
     "name": "stdout",
     "output_type": "stream",
     "text": [
      "\n",
      "          ┌─┐     ! ┌────┐            !                                                                    >\n",
      "q_0:  |0>─┤H├ ────! ┤CNOT├ ────── ────! ────────────── ────── ────────────── ───■── ─────────────── ────── >\n",
      "          ├─┤     ! └──┬─┘            !                                         │                          >\n",
      "q_1:  |0>─┤H├ ────! ───■── ───■── ────! ────────────── ────── ────────────── ───┼── ─────────────── ────── >\n",
      "          ├─┤     !        ┌──┴─┐     !                                         │                          >\n",
      "q_2:  |0>─┤H├ ────! ────── ┤CNOT├ ────! ────────────── ───■── ────────────── ───┼── ─────────────── ───■── >\n",
      "          └─┘     !        └────┘     ! ┌────────────┐ ┌──┴─┐ ┌────────────┐ ┌──┴─┐ ┌─────────────┐ ┌──┴─┐ >\n",
      "q_3:  |0>──── ────! ────── ────── ────! ┤RY(0.785398)├ ┤CNOT├ ┤RY(0.785398)├ ┤CNOT├ ┤RY(-0.785398)├ ┤CNOT├ >\n",
      "                  !                   ! └────────────┘ └────┘ └────────────┘ └────┘ └─────────────┘ └────┘ >\n",
      "q_4:  |0>──── ────! ────── ────── ────! ────────────── ────── ────────────── ────── ─────────────── ────── >\n",
      "                  !                   !                                                                    >\n",
      "\n",
      "                             ! ┌────┐ ┌─┐     !                                                             >\n",
      "q_0:  |0>─────────────── ────! ┤CNOT├ ┤X├ ────! ────────────── ────── ────────────── ───■── ─────────────── >\n",
      "                             ! └──┬─┘ └─┘     !                                         │                   >\n",
      "q_1:  |0>─────────────── ────! ───■── ─── ────! ────────────── ────── ────────────── ───┼── ─────────────── >\n",
      "                             !                !                                         │                   >\n",
      "q_2:  |0>─────────────── ────! ────── ─── ────! ────────────── ────── ────────────── ───┼── ─────────────── >\n",
      "         ┌─────────────┐     !                !                                         │                   >\n",
      "q_3:  |0>┤RY(-0.785398)├ ────! ────── ─── ────! ────────────── ───■── ────────────── ───┼── ─────────────── >\n",
      "         └─────────────┘     !                ! ┌────────────┐ ┌──┴─┐ ┌────────────┐ ┌──┴─┐ ┌─────────────┐ >\n",
      "q_4:  |0>─────────────── ────! ────── ─── ────! ┤RY(0.785398)├ ┤CNOT├ ┤RY(0.785398)├ ┤CNOT├ ┤RY(-0.785398)├ >\n",
      "                             !                ! └────────────┘ └────┘ └────────────┘ └────┘ └─────────────┘ >\n",
      "\n",
      "                                    ! ┌─┐                   ! ┌─┐ ┌────────────┐ ┌────────────┐     ! >\n",
      "q_0:  |0>────── ─────────────── ────! ┤X├─── ───■────── ────! ┤H├ ┤U1(1.570796)├ ┤U1(0.785398)├ ────! >\n",
      "                                    ! └─┘       │           ! └─┘ └──────┬─────┘ └──────┬─────┘     ! >\n",
      "q_1:  |0>────── ─────────────── ────! ────── ───┼───■── ────! ─── ───────■────── ───────┼────── ────! >\n",
      "                                    !           │┌──┴─┐     !                           │           ! >\n",
      "q_2:  |0>────── ─────────────── ────! ───■── ───┼┤CNOT├ ────! ─── ────────────── ───────■────── ────! >\n",
      "                                    !    │      │└────┘     !                                       ! >\n",
      "q_3:  |0>───■── ─────────────── ────! ───┼── ───┼────── ────! ─── ────────────── ────────────── ────! >\n",
      "         ┌──┴─┐ ┌─────────────┐     ! ┌──┴─┐ ┌──┴─┐         !                                       ! >\n",
      "q_4:  |0>┤CNOT├ ┤RY(-0.785398)├ ────! ┤CNOT├ ┤CNOT├──── ────! ─── ────────────── ────────────── ────! >\n",
      "         └────┘ └─────────────┘     ! └────┘ └────┘         !                                       ! >\n",
      "\n",
      "                                !     \n",
      "q_0:  |0>─── ────────────── ────! ─── \n",
      "         ┌─┐ ┌────────────┐     !     \n",
      "q_1:  |0>┤H├ ┤U1(1.570796)├ ────! ─── \n",
      "         └─┘ └──────┬─────┘     ! ┌─┐ \n",
      "q_2:  |0>─── ───────■────── ────! ┤H├ \n",
      "                                ! └─┘ \n",
      "q_3:  |0>─── ────────────── ────! ─── \n",
      "                                !     \n",
      "q_4:  |0>─── ────────────── ────! ─── \n",
      "                                !     \n",
      "\n",
      "\n"
     ]
    }
   ],
   "source": [
    "prog_approximate = create_empty_qprog()\n",
    "prog_approximate << hadamard_circuit << unitary_circuit_approximate << qft_dagger_circuit\n",
    "\n",
    "draw(prog_approximate, 'shor_approximate')"
   ]
  },
  {
   "cell_type": "markdown",
   "id": "0976832a",
   "metadata": {},
   "source": [
    "## Measure and calculate factors"
   ]
  },
  {
   "cell_type": "code",
   "execution_count": 42,
   "id": "1afae4f2",
   "metadata": {},
   "outputs": [],
   "source": [
    "def measure(prog):\n",
    "    for i in range(phase_bits_qubits):\n",
    "        prog << Measure(qubits[i], cbits[phase_bits_qubits - i - 1])\n",
    "\n",
    "    result = run_with_configuration(prog, cbits, 1)\n",
    "    print(f'  result: {result}')\n",
    "    \n",
    "    return result"
   ]
  },
  {
   "cell_type": "code",
   "execution_count": 43,
   "id": "406f628f",
   "metadata": {},
   "outputs": [],
   "source": [
    "def QPE(result):\n",
    "    phase = int(list(result)[0], 2) / (2 ** phase_bits_qubits)\n",
    "    print(f'   - corresponding phase: {phase}')\n",
    "    \n",
    "    return phase"
   ]
  },
  {
   "cell_type": "code",
   "execution_count": 44,
   "id": "0b6d317e",
   "metadata": {},
   "outputs": [],
   "source": [
    "def calculatePeriod(phase):\n",
    "    frac = Fraction(phase).limit_denominator(N)\n",
    "    r = frac.denominator\n",
    "    print(f'\\n  Rewrite to fraction: {frac}, thus r = {r}')\n",
    "    \n",
    "    return r"
   ]
  },
  {
   "cell_type": "code",
   "execution_count": 52,
   "id": "f3f520a0",
   "metadata": {},
   "outputs": [],
   "source": [
    "def calculateFactors(r):\n",
    "    guesses = [math.gcd(a ** (r // 2) - 1, N), math.gcd(a ** (r // 2) + 1, N)]\n",
    "    print(f'  calculate final guesses: {guesses}')\n",
    "    \n",
    "    factors = []\n",
    "    for num in guesses:\n",
    "        if num not in [1, N]:\n",
    "            factors.append(num)\n",
    "            print(f'[Find non-trivial factor: {num}]')\n",
    "    \n",
    "    if len(factors) == 0:\n",
    "        print('[Failed]')\n",
    "        return False, []\n",
    "    elif len(factors) == 1:\n",
    "        factors.append(N // factors[0])\n",
    "    \n",
    "    return True, sorted(factors)"
   ]
  },
  {
   "cell_type": "markdown",
   "id": "dada795c",
   "metadata": {},
   "source": [
    "### - final execute"
   ]
  },
  {
   "cell_type": "code",
   "execution_count": 77,
   "id": "fa0d6ca0",
   "metadata": {},
   "outputs": [],
   "source": [
    "def execute(prog):\n",
    "    attempt = 1\n",
    "    \n",
    "    while True:\n",
    "        print(f'Execute shor algorithm - attempt time: [{attempt}]')\n",
    "\n",
    "        result = measure(prog)\n",
    "        phase = QPE(result)\n",
    "\n",
    "        # period\n",
    "        r = calculatePeriod(phase)\n",
    "\n",
    "        ok, factors = calculateFactors(r)\n",
    "        if ok:\n",
    "            print(f'\\nFactors of {N} are: {factors} (total run times: {attempt})')\n",
    "            break\n",
    "            \n",
    "        attempt += 1\n",
    "        print('\\n' + '-' * 36 + '\\n')"
   ]
  },
  {
   "cell_type": "code",
   "execution_count": 104,
   "id": "5b576a5e",
   "metadata": {
    "scrolled": false
   },
   "outputs": [
    {
     "name": "stdout",
     "output_type": "stream",
     "text": [
      "Execute shor algorithm - attempt time: [1]\n",
      "  result: {'000': 1}\n",
      "   - corresponding phase: 0.0\n",
      "\n",
      "  Rewrite to fraction: 0, thus r = 1\n",
      "  calculate final guesses: [21, 1]\n",
      "[Failed]\n",
      "\n",
      "------------------------------------\n",
      "\n",
      "Execute shor algorithm - attempt time: [2]\n",
      "  result: {'101': 1}\n",
      "   - corresponding phase: 0.625\n",
      "\n",
      "  Rewrite to fraction: 5/8, thus r = 8\n",
      "  calculate final guesses: [3, 1]\n",
      "[Find non-trivial factor: 3]\n",
      "\n",
      "Factors of 21 are: [3, 7] (total run times: 2)\n"
     ]
    }
   ],
   "source": [
    "execute(prog)"
   ]
  },
  {
   "cell_type": "code",
   "execution_count": 106,
   "id": "08e82705",
   "metadata": {},
   "outputs": [
    {
     "name": "stdout",
     "output_type": "stream",
     "text": [
      "Execute shor algorithm - attempt time: [1]\n",
      "  result: {'000': 1}\n",
      "   - corresponding phase: 0.0\n",
      "\n",
      "  Rewrite to fraction: 0, thus r = 1\n",
      "  calculate final guesses: [21, 1]\n",
      "[Failed]\n",
      "\n",
      "------------------------------------\n",
      "\n",
      "Execute shor algorithm - attempt time: [2]\n",
      "  result: {'011': 1}\n",
      "   - corresponding phase: 0.375\n",
      "\n",
      "  Rewrite to fraction: 3/8, thus r = 8\n",
      "  calculate final guesses: [3, 1]\n",
      "[Find non-trivial factor: 3]\n",
      "\n",
      "Factors of 21 are: [3, 7] (total run times: 2)\n"
     ]
    }
   ],
   "source": [
    "execute(prog_approximate)"
   ]
  },
  {
   "cell_type": "code",
   "execution_count": null,
   "id": "f99a4f94",
   "metadata": {},
   "outputs": [],
   "source": []
  }
 ],
 "metadata": {
  "kernelspec": {
   "display_name": "Python 3 (ipykernel)",
   "language": "python",
   "name": "python3"
  },
  "language_info": {
   "codemirror_mode": {
    "name": "ipython",
    "version": 3
   },
   "file_extension": ".py",
   "mimetype": "text/x-python",
   "name": "python",
   "nbconvert_exporter": "python",
   "pygments_lexer": "ipython3",
   "version": "3.7.0"
  }
 },
 "nbformat": 4,
 "nbformat_minor": 5
}
