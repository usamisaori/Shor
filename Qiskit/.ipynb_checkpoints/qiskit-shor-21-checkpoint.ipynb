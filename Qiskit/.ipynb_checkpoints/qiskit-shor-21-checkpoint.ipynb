{
 "cells": [
  {
   "cell_type": "code",
   "execution_count": 1,
   "id": "09de51dc",
   "metadata": {},
   "outputs": [
    {
     "name": "stdout",
     "output_type": "stream",
     "text": [
      "Imports Successful\n"
     ]
    }
   ],
   "source": [
    "import matplotlib.pyplot as plt\n",
    "import numpy as np\n",
    "from qiskit import QuantumCircuit, Aer, transpile, assemble\n",
    "from qiskit.visualization import plot_histogram\n",
    "from math import gcd\n",
    "from numpy.random import randint\n",
    "import pandas as pd\n",
    "from fractions import Fraction\n",
    "print(\"Imports Successful\")"
   ]
  },
  {
   "cell_type": "code",
   "execution_count": 2,
   "id": "0a31f4be",
   "metadata": {},
   "outputs": [],
   "source": [
    "import warnings\n",
    "warnings.filterwarnings(\"ignore\")"
   ]
  },
  {
   "cell_type": "markdown",
   "id": "0e990af1",
   "metadata": {},
   "source": [
    "## Test: Factoring 21"
   ]
  },
  {
   "cell_type": "code",
   "execution_count": 4,
   "id": "c34bd8b8",
   "metadata": {},
   "outputs": [],
   "source": [
    "N = 21"
   ]
  },
  {
   "cell_type": "markdown",
   "id": "e7127283",
   "metadata": {},
   "source": [
    "## choose a random number between 1 and N-1"
   ]
  },
  {
   "cell_type": "code",
   "execution_count": 37,
   "id": "d41afc0a",
   "metadata": {},
   "outputs": [
    {
     "name": "stdout",
     "output_type": "stream",
     "text": [
      "8\n"
     ]
    }
   ],
   "source": [
    "np.random.seed(42) # This is to make sure we get reproduceable results\n",
    "a = randint(2, N)\n",
    "\n",
    "print(a)"
   ]
  },
  {
   "cell_type": "markdown",
   "id": "f213d53f",
   "metadata": {},
   "source": [
    "## quickly check it isn't already a non-trivial factor of N"
   ]
  },
  {
   "cell_type": "code",
   "execution_count": 38,
   "id": "0bbaee1e",
   "metadata": {},
   "outputs": [
    {
     "data": {
      "text/plain": [
       "1"
      ]
     },
     "execution_count": 38,
     "metadata": {},
     "output_type": "execute_result"
    }
   ],
   "source": [
    "from math import gcd # greatest common divisor\n",
    "gcd(a, N)"
   ]
  },
  {
   "cell_type": "code",
   "execution_count": 22,
   "id": "e18a7865",
   "metadata": {},
   "outputs": [
    {
     "data": {
      "text/plain": [
       "[2, 4, 5, 8, 10, 11, 13, 16, 17, 19]"
      ]
     },
     "execution_count": 22,
     "metadata": {},
     "output_type": "execute_result"
    }
   ],
   "source": [
    "[i for i in range(2, N - 1) if gcd(i, N) == 1]"
   ]
  },
  {
   "cell_type": "code",
   "execution_count": 32,
   "id": "91eb07ff",
   "metadata": {
    "scrolled": true
   },
   "outputs": [
    {
     "name": "stdout",
     "output_type": "stream",
     "text": [
      "2:\n",
      "[0, 2, 4, 6, 8, 10, 12, 14, 16, 18, 20, 1, 3, 5, 7, 9, 11, 13, 15, 17, 19, 0, 2, 4, 6, 8, 10, 12, 14, 16, 18, 20]\n",
      "4:\n",
      "[0, 4, 8, 12, 16, 20, 3, 7, 11, 15, 19, 2, 6, 10, 14, 18, 1, 5, 9, 13, 17, 0, 4, 8, 12, 16, 20, 3, 7, 11, 15, 19]\n",
      "5:\n",
      "[0, 5, 10, 15, 20, 4, 9, 14, 19, 3, 8, 13, 18, 2, 7, 12, 17, 1, 6, 11, 16, 0, 5, 10, 15, 20, 4, 9, 14, 19, 3, 8]\n",
      "8:\n",
      "[0, 8, 16, 3, 11, 19, 6, 14, 1, 9, 17, 4, 12, 20, 7, 15, 2, 10, 18, 5, 13, 0, 8, 16, 3, 11, 19, 6, 14, 1, 9, 17]\n",
      "10:\n",
      "[0, 10, 20, 9, 19, 8, 18, 7, 17, 6, 16, 5, 15, 4, 14, 3, 13, 2, 12, 1, 11, 0, 10, 20, 9, 19, 8, 18, 7, 17, 6, 16]\n",
      "11:\n",
      "[0, 11, 1, 12, 2, 13, 3, 14, 4, 15, 5, 16, 6, 17, 7, 18, 8, 19, 9, 20, 10, 0, 11, 1, 12, 2, 13, 3, 14, 4, 15, 5]\n",
      "13:\n",
      "[0, 13, 5, 18, 10, 2, 15, 7, 20, 12, 4, 17, 9, 1, 14, 6, 19, 11, 3, 16, 8, 0, 13, 5, 18, 10, 2, 15, 7, 20, 12, 4]\n",
      "16:\n",
      "[0, 16, 11, 6, 1, 17, 12, 7, 2, 18, 13, 8, 3, 19, 14, 9, 4, 20, 15, 10, 5, 0, 16, 11, 6, 1, 17, 12, 7, 2, 18, 13]\n",
      "17:\n",
      "[0, 17, 13, 9, 5, 1, 18, 14, 10, 6, 2, 19, 15, 11, 7, 3, 20, 16, 12, 8, 4, 0, 17, 13, 9, 5, 1, 18, 14, 10, 6, 2]\n",
      "19:\n",
      "[0, 19, 17, 15, 13, 11, 9, 7, 5, 3, 1, 20, 18, 16, 14, 12, 10, 8, 6, 4, 2, 0, 19, 17, 15, 13, 11, 9, 7, 5, 3, 1]\n"
     ]
    }
   ],
   "source": [
    "for i in [i for i in range(2, N - 1) if gcd(i, N) == 1]:\n",
    "    print(f'{i}:')\n",
    "    res = []\n",
    "    for j in range(2 ** 5):\n",
    "        res.append((i * j) % N)\n",
    "    print(res)"
   ]
  },
  {
   "cell_type": "markdown",
   "id": "906b7066",
   "metadata": {},
   "source": [
    "## do Shor's order finding algorithm for *a* and *N*."
   ]
  },
  {
   "cell_type": "markdown",
   "id": "e5e41cb9",
   "metadata": {},
   "source": [
    "### - solve the period finding problem"
   ]
  },
  {
   "cell_type": "code",
   "execution_count": null,
   "id": "2ed15327",
   "metadata": {},
   "outputs": [],
   "source": [
    "def c_amod21(a, power):\n",
    "    \"\"\"Controlled multiplication by a mod 15\"\"\"\n",
    "    if a not in [i for i in range(2, N - 1) if gcd(i, N) == 1]:\n",
    "        raise ValueError(\"'a' is not allowed\")\n",
    "    \n",
    "    U = QuantumCircuit(5)        \n",
    "    for iteration in range(power):\n",
    "        if a in [2, 19]:\n",
    "            pass\n",
    "        if a in [4, 17]:\n",
    "            pass\n",
    "        if a in [5, 16]:\n",
    "            pass\n",
    "        if a in [8, 13]:\n",
    "            pass\n",
    "        if a in [10, 11]:\n",
    "            pass\n",
    "        if a in [19, 17, 16, 13, 11]:\n",
    "            for q in range(5):\n",
    "                U.x(q)\n",
    "    U = U.to_gate()\n",
    "    U.name = \"%i^%i mod %i\" % (a, power, N)\n",
    "    c_U = U.control()\n",
    "    \n",
    "    return c_U"
   ]
  }
 ],
 "metadata": {
  "kernelspec": {
   "display_name": "Python 3 (ipykernel)",
   "language": "python",
   "name": "python3"
  },
  "language_info": {
   "codemirror_mode": {
    "name": "ipython",
    "version": 3
   },
   "file_extension": ".py",
   "mimetype": "text/x-python",
   "name": "python",
   "nbconvert_exporter": "python",
   "pygments_lexer": "ipython3",
   "version": "3.8.13"
  }
 },
 "nbformat": 4,
 "nbformat_minor": 5
}
