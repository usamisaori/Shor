{
 "cells": [
  {
   "cell_type": "code",
   "execution_count": 1,
   "id": "d401264b",
   "metadata": {},
   "outputs": [
    {
     "name": "stdout",
     "output_type": "stream",
     "text": [
      "Imports Successful\n"
     ]
    }
   ],
   "source": [
    "import matplotlib.pyplot as plt\n",
    "import numpy as np\n",
    "from qiskit import QuantumCircuit, Aer, transpile, assemble\n",
    "from qiskit.visualization import plot_histogram\n",
    "from math import gcd\n",
    "from numpy.random import randint\n",
    "import pandas as pd\n",
    "from fractions import Fraction\n",
    "print(\"Imports Successful\")"
   ]
  },
  {
   "cell_type": "code",
   "execution_count": 2,
   "id": "9619aaf1",
   "metadata": {},
   "outputs": [],
   "source": [
    "import warnings\n",
    "warnings.filterwarnings(\"ignore\")"
   ]
  },
  {
   "cell_type": "markdown",
   "id": "4a25f420",
   "metadata": {},
   "source": [
    "## Example: Factoring 15 "
   ]
  },
  {
   "cell_type": "code",
   "execution_count": 3,
   "id": "b4d81a01",
   "metadata": {},
   "outputs": [],
   "source": [
    "N = 15"
   ]
  },
  {
   "cell_type": "markdown",
   "id": "a65756db",
   "metadata": {},
   "source": [
    "## choose a random number between 1 and N-1"
   ]
  },
  {
   "cell_type": "code",
   "execution_count": 9,
   "id": "5fc404d3",
   "metadata": {},
   "outputs": [
    {
     "name": "stdout",
     "output_type": "stream",
     "text": [
      "7\n"
     ]
    }
   ],
   "source": [
    "np.random.seed(1) # This is to make sure we get reproduceable results\n",
    "a = randint(2, N)\n",
    "\n",
    "print(a)"
   ]
  },
  {
   "cell_type": "markdown",
   "id": "142e0d7a",
   "metadata": {},
   "source": [
    "## quickly check it isn't already a non-trivial factor of N"
   ]
  },
  {
   "cell_type": "code",
   "execution_count": 11,
   "id": "a141137a",
   "metadata": {},
   "outputs": [
    {
     "data": {
      "text/plain": [
       "1"
      ]
     },
     "execution_count": 11,
     "metadata": {},
     "output_type": "execute_result"
    }
   ],
   "source": [
    "from math import gcd # greatest common divisor\n",
    "gcd(a, N)"
   ]
  },
  {
   "cell_type": "markdown",
   "id": "03304c6f",
   "metadata": {},
   "source": [
    "## do Shor's order finding algorithm for *a* and *N*."
   ]
  },
  {
   "cell_type": "markdown",
   "id": "3b06598a",
   "metadata": {},
   "source": [
    "### - solve the period finding problem"
   ]
  },
  {
   "cell_type": "code",
   "execution_count": 18,
   "id": "1c8838b5",
   "metadata": {},
   "outputs": [],
   "source": [
    "def c_amod15(a, power):\n",
    "    \"\"\"Controlled multiplication by a mod 15\"\"\"\n",
    "    if a not in [2, 4, 7, 8, 11, 13]:\n",
    "        raise ValueError(\"'a' must be 2,4,7,8,11 or 13\")\n",
    "    \n",
    "    U = QuantumCircuit(4)        \n",
    "    for iteration in range(power):\n",
    "        if a in [2, 13]:\n",
    "            U.swap(0, 1)\n",
    "            U.swap(1, 2)\n",
    "            U.swap(2, 3)\n",
    "        if a in [7, 8]:\n",
    "            U.swap(2, 3)\n",
    "            U.swap(1, 2)\n",
    "            U.swap(0, 1)\n",
    "        if a in [4, 11]:\n",
    "            U.swap(1, 3)\n",
    "            U.swap(0, 2)\n",
    "        if a in [7, 11, 13]:\n",
    "            for q in range(4):\n",
    "                U.x(q)\n",
    "    U = U.to_gate()\n",
    "    U.name = \"%i^%i mod %i\" % (a, power, N)\n",
    "    c_U = U.control()\n",
    "    \n",
    "    return c_U"
   ]
  },
  {
   "cell_type": "markdown",
   "id": "ce339ea3",
   "metadata": {},
   "source": [
    "### - import the circuit for the QFT"
   ]
  },
  {
   "cell_type": "code",
   "execution_count": 19,
   "id": "2f4daf46",
   "metadata": {},
   "outputs": [],
   "source": [
    "def qft_dagger(n):\n",
    "    \"\"\"n-qubit QFTdagger the first n qubits in circ\"\"\"\n",
    "    qc = QuantumCircuit(n)\n",
    "    \n",
    "    # Don't forget the Swaps!\n",
    "    for qubit in range(n // 2):\n",
    "        qc.swap(qubit, n - qubit - 1)\n",
    "    for j in range(n):\n",
    "        for m in range(j):\n",
    "            qc.cp( -np.pi / float(2 ** (j - m) ), m, j)\n",
    "        qc.h(j)\n",
    "    qc.name = \"QFT†\"\n",
    "    \n",
    "    return qc"
   ]
  },
  {
   "cell_type": "code",
   "execution_count": 32,
   "id": "6ddef9f7",
   "metadata": {},
   "outputs": [],
   "source": [
    "def amod15_circuit(n_count, a):\n",
    "    qc = QuantumCircuit(4 + n_count, n_count)\n",
    "    \n",
    "    for q in range(n_count):\n",
    "        qc.h(q)     # Initialize counting qubits in state |+>\n",
    "    \n",
    "    qc.x(3 + n_count) # And auxiliary register in state |1>\n",
    "    for q in range(n_count): # Do controlled-U operations\n",
    "        qc.append(c_amod15(a, 2 ** q), \n",
    "                 [q] + [i + n_count for i in range(4)])\n",
    "    \n",
    "    qc.append(qft_dagger(n_count), range(n_count)) # Do inverse-QFT\n",
    "    \n",
    "    return qc"
   ]
  },
  {
   "cell_type": "code",
   "execution_count": 75,
   "id": "cf3d4daf",
   "metadata": {
    "scrolled": false
   },
   "outputs": [
    {
     "data": {
      "image/png": "[encoded data removed]",
      "text/plain": [
       "<Figure size 1350.8x686.28 with 1 Axes>"
      ]
     },
     "execution_count": 75,
     "metadata": {},
     "output_type": "execute_result"
    }
   ],
   "source": [
    "qc = amod15_circuit(6, a)\n",
    "qc.draw(output='mpl')"
   ]
  },
  {
   "cell_type": "code",
   "execution_count": 84,
   "id": "5e5d7415",
   "metadata": {},
   "outputs": [],
   "source": [
    "def qpe_amod15(a):\n",
    "    n_count = 4\n",
    "    qc = amod15_circuit(n_count, a)\n",
    "    \n",
    "    qc.measure(range(n_count), range(n_count))\n",
    "    # Simulate Results\n",
    "    aer_sim = Aer.get_backend('aer_simulator')\n",
    "    \n",
    "    # Setting memory=True below allows us to see a list of each sequential reading\n",
    "    t_qc = transpile(qc, aer_sim)\n",
    "    qobj = assemble(t_qc, shots=1)\n",
    "    result = aer_sim.run(qobj, memory=True).result()\n",
    "    \n",
    "    readings = result.get_memory()\n",
    "    print(\"Register Reading: \" + readings[0])\n",
    "    \n",
    "    phase = int(readings[0],2)/(2**n_count)\n",
    "    print(\"Corresponding Phase: %f\" % phase)\n",
    "    \n",
    "    return phase"
   ]
  },
  {
   "cell_type": "markdown",
   "id": "6d9fbe2c",
   "metadata": {},
   "source": [
    "## find a guess of r"
   ]
  },
  {
   "cell_type": "code",
   "execution_count": 85,
   "id": "a1b37e3b",
   "metadata": {},
   "outputs": [
    {
     "name": "stdout",
     "output_type": "stream",
     "text": [
      "Register Reading: 1100\n",
      "Corresponding Phase: 0.750000\n"
     ]
    },
    {
     "data": {
      "text/plain": [
       "Fraction(3, 4)"
      ]
     },
     "execution_count": 85,
     "metadata": {},
     "output_type": "execute_result"
    }
   ],
   "source": [
    "phase = qpe_amod15(a) # Phase = s/r\n",
    "Fraction(phase).limit_denominator(N) # Denominator should (hopefully!) tell us r"
   ]
  },
  {
   "cell_type": "code",
   "execution_count": 86,
   "id": "1dd787fe",
   "metadata": {},
   "outputs": [
    {
     "name": "stdout",
     "output_type": "stream",
     "text": [
      "4\n"
     ]
    }
   ],
   "source": [
    "frac = Fraction(phase).limit_denominator(N)\n",
    "s, r = frac.numerator, frac.denominator\n",
    "print(r)"
   ]
  },
  {
   "cell_type": "code",
   "execution_count": 87,
   "id": "92171ec5",
   "metadata": {},
   "outputs": [
    {
     "name": "stdout",
     "output_type": "stream",
     "text": [
      "[3, 5]\n"
     ]
    }
   ],
   "source": [
    "guesses = [gcd(a ** (r // 2) - 1, N), gcd(a ** (r // 2) + 1, N)]\n",
    "print(sorted(guesses))"
   ]
  },
  {
   "cell_type": "markdown",
   "id": "e4787136",
   "metadata": {},
   "source": [
    "## repeats the algorithm until at least one factor of 15 is found"
   ]
  },
  {
   "cell_type": "code",
   "execution_count": 88,
   "id": "c7a0593a",
   "metadata": {},
   "outputs": [
    {
     "name": "stdout",
     "output_type": "stream",
     "text": [
      "\n",
      "Attempt 1:\n",
      "Register Reading: 0000\n",
      "Corresponding Phase: 0.000000\n",
      "Result: r = 1\n",
      "\n",
      "Attempt 2:\n",
      "Register Reading: 0100\n",
      "Corresponding Phase: 0.250000\n",
      "Result: r = 4\n",
      "Guessed Factors: 3 and 5\n",
      "*** Non-trivial factor found: 3 ***\n",
      "*** Non-trivial factor found: 5 ***\n"
     ]
    }
   ],
   "source": [
    "factor_found = False\n",
    "attempt = 0\n",
    "\n",
    "while not factor_found:\n",
    "    attempt += 1\n",
    "    print(\"\\nAttempt %i:\" % attempt)\n",
    "    \n",
    "    phase = qpe_amod15(a) # Phase = s/r\n",
    "    frac = Fraction(phase).limit_denominator(N) # Denominator should (hopefully!) tell us r\n",
    "    r = frac.denominator\n",
    "    print(\"Result: r = %i\" % r)\n",
    "    \n",
    "    if phase != 0:\n",
    "        # Guesses for factors are gcd(x^{r/2} ±1 , 15)\n",
    "        guesses = sorted([gcd(a ** (r // 2) - 1, N), gcd(a ** (r // 2) + 1, N)])\n",
    "        print(\"Guessed Factors: %i and %i\" % (guesses[0], guesses[1]))\n",
    "        for guess in guesses:\n",
    "            if guess not in [1,N] and (N % guess) == 0: # Check to see if guess is a factor\n",
    "                print(\"*** Non-trivial factor found: %i ***\" % guess)\n",
    "                factor_found = True"
   ]
  },
  {
   "cell_type": "code",
   "execution_count": null,
   "id": "d601ab1c",
   "metadata": {},
   "outputs": [],
   "source": []
  }
 ],
 "metadata": {
  "kernelspec": {
   "display_name": "Python 3 (ipykernel)",
   "language": "python",
   "name": "python3"
  },
  "language_info": {
   "codemirror_mode": {
    "name": "ipython",
    "version": 3
   },
   "file_extension": ".py",
   "mimetype": "text/x-python",
   "name": "python",
   "nbconvert_exporter": "python",
   "pygments_lexer": "ipython3",
   "version": "3.8.13"
  }
 },
 "nbformat": 4,
 "nbformat_minor": 5
}
